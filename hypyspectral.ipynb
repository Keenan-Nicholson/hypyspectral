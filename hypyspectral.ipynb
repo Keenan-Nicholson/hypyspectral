{
 "cells": [
  {
   "cell_type": "code",
   "execution_count": 65,
   "metadata": {},
   "outputs": [],
   "source": [
    "import pandas as pd\n",
    "import geopandas as gpd\n",
    "from spectral import *\n",
    "import rasterio as rio\n",
    "import numpy as np\n",
    "import matplotlib.pyplot as plt\n",
    "import glob"
   ]
  },
  {
   "cell_type": "code",
   "execution_count": null,
   "metadata": {},
   "outputs": [],
   "source": [
    "file_path = 'data/EO1H0250282017071110K2_1T/'"
   ]
  },
  {
   "cell_type": "code",
   "execution_count": 66,
   "metadata": {},
   "outputs": [],
   "source": [
    "def read_image(image_path):\n",
    "    with rio.open(image_path) as src:\n",
    "        img = src.read()\n",
    "        img = np.moveaxis(img, 0, -1)\n",
    "    return img"
   ]
  },
  {
   "cell_type": "code",
   "execution_count": 72,
   "metadata": {},
   "outputs": [],
   "source": [
    "def create_rgb_composite(file_path):\n",
    "\n",
    "    r_path = glob.glob(file_path + '*B029*.TIF')[0]\n",
    "    g_path = glob.glob(file_path + '*B030*.TIF')[0]\n",
    "    b_path = glob.glob(file_path + '*B031*.TIF')[0]\n",
    "\n",
    "    R = read_image(r_path)\n",
    "    G = read_image(g_path)\n",
    "    B = read_image(b_path)\n",
    "\n",
    "\n",
    "    img = np.stack([R, G, B], axis=-1)\n",
    "    img = np.squeeze(img)\n",
    "\n",
    "    #normalize the image\n",
    "    img = (img - np.min(img))/(np.max(img) - np.min(img)) * 255\n",
    "    img = img.astype(np.uint8)\n",
    "    \n",
    "    return img"
   ]
  },
  {
   "cell_type": "code",
   "execution_count": 92,
   "metadata": {},
   "outputs": [],
   "source": [
    "def create_image_stack(file_path):\n",
    "    for i, band in enumerate(glob.glob(file_path + '*.TIF')):\n",
    "        if i == 0:\n",
    "            img = read_image(band)\n",
    "        else:\n",
    "            img = np.dstack((img, read_image(band)))\n",
    "    return img"
   ]
  }
 ],
 "metadata": {
  "kernelspec": {
   "display_name": "env",
   "language": "python",
   "name": "python3"
  },
  "language_info": {
   "codemirror_mode": {
    "name": "ipython",
    "version": 3
   },
   "file_extension": ".py",
   "mimetype": "text/x-python",
   "name": "python",
   "nbconvert_exporter": "python",
   "pygments_lexer": "ipython3",
   "version": "3.13.0"
  }
 },
 "nbformat": 4,
 "nbformat_minor": 2
}
